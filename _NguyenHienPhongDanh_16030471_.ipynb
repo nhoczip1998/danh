{
  "nbformat": 4,
  "nbformat_minor": 0,
  "metadata": {
    "colab": {
      "name": "*NguyenHienPhongDanh_16030471 .ipynb",
      "provenance": [],
      "collapsed_sections": []
    },
    "kernelspec": {
      "name": "python3",
      "display_name": "Python 3"
    }
  },
  "cells": [
    {
      "cell_type": "markdown",
      "metadata": {
        "id": "7vw5Kdzcx7ZE"
      },
      "source": [
        "Lập trình phân tích dữ liệu 2 - Nguyễn Hiền Phong Danh - 16030471"
      ]
    },
    {
      "cell_type": "code",
      "metadata": {
        "id": "1EMuxuhaxv7r"
      },
      "source": [
        "import numpy as np\r\n",
        "import pandas as pd\r\n",
        "import matplotlib.pyplot as plt\r\n",
        "import seaborn as sns\r\n"
      ],
      "execution_count": null,
      "outputs": []
    },
    {
      "cell_type": "code",
      "metadata": {
        "id": "qBg3MtTV0TSb"
      },
      "source": [
        "df=pd.ExcelFile('/content/KQThiLyThuyet-26.12.2020_ca2.xls')"
      ],
      "execution_count": null,
      "outputs": []
    },
    {
      "cell_type": "code",
      "metadata": {
        "id": "tJtLajNg0fai"
      },
      "source": [
        "result=df.parse('Sheet1') "
      ],
      "execution_count": null,
      "outputs": []
    },
    {
      "cell_type": "code",
      "metadata": {
        "colab": {
          "base_uri": "https://localhost:8080/"
        },
        "id": "p1e2_Ihc0nfr",
        "outputId": "9dfbfb71-dc67-4761-b50c-496ce94c7c35"
      },
      "source": [
        "result.isnull().sum()"
      ],
      "execution_count": null,
      "outputs": [
        {
          "output_type": "execute_result",
          "data": {
            "text/plain": [
              "STT          0\n",
              "Mã SV        0\n",
              "Họ đệm       0\n",
              "Tên          0\n",
              "Giới tính    0\n",
              "Ngày sinh    4\n",
              "Điểm         0\n",
              "Điểm.1       0\n",
              "dtype: int64"
            ]
          },
          "metadata": {
            "tags": []
          },
          "execution_count": 4
        }
      ]
    },
    {
      "cell_type": "code",
      "metadata": {
        "colab": {
          "base_uri": "https://localhost:8080/",
          "height": 514
        },
        "id": "crU50YJH00Wj",
        "outputId": "09541263-5a00-4622-98e7-05fb9841e6fa"
      },
      "source": [
        "result.head(15)"
      ],
      "execution_count": null,
      "outputs": [
        {
          "output_type": "execute_result",
          "data": {
            "text/html": [
              "<div>\n",
              "<style scoped>\n",
              "    .dataframe tbody tr th:only-of-type {\n",
              "        vertical-align: middle;\n",
              "    }\n",
              "\n",
              "    .dataframe tbody tr th {\n",
              "        vertical-align: top;\n",
              "    }\n",
              "\n",
              "    .dataframe thead th {\n",
              "        text-align: right;\n",
              "    }\n",
              "</style>\n",
              "<table border=\"1\" class=\"dataframe\">\n",
              "  <thead>\n",
              "    <tr style=\"text-align: right;\">\n",
              "      <th></th>\n",
              "      <th>STT</th>\n",
              "      <th>Mã SV</th>\n",
              "      <th>Họ đệm</th>\n",
              "      <th>Tên</th>\n",
              "      <th>Giới tính</th>\n",
              "      <th>Ngày sinh</th>\n",
              "      <th>Điểm</th>\n",
              "      <th>Điểm.1</th>\n",
              "    </tr>\n",
              "  </thead>\n",
              "  <tbody>\n",
              "    <tr>\n",
              "      <th>0</th>\n",
              "      <td>1</td>\n",
              "      <td>18066431</td>\n",
              "      <td>Đỗ Huy Quốc</td>\n",
              "      <td>An</td>\n",
              "      <td>Nữ</td>\n",
              "      <td>2000-08-11 00:00:00</td>\n",
              "      <td>5.0</td>\n",
              "      <td>5.0</td>\n",
              "    </tr>\n",
              "    <tr>\n",
              "      <th>1</th>\n",
              "      <td>2</td>\n",
              "      <td>18031341</td>\n",
              "      <td>Hồ Văn Công</td>\n",
              "      <td>Anh</td>\n",
              "      <td>Nữ</td>\n",
              "      <td>27/09/2000</td>\n",
              "      <td>5.5</td>\n",
              "      <td>5.5</td>\n",
              "    </tr>\n",
              "    <tr>\n",
              "      <th>2</th>\n",
              "      <td>4</td>\n",
              "      <td>19462511</td>\n",
              "      <td>Nguyễn Thị Tuyết</td>\n",
              "      <td>Anh</td>\n",
              "      <td>Nữ</td>\n",
              "      <td>2001-01-01 00:00:00</td>\n",
              "      <td>6.3</td>\n",
              "      <td>6.5</td>\n",
              "    </tr>\n",
              "    <tr>\n",
              "      <th>3</th>\n",
              "      <td>5</td>\n",
              "      <td>18002951</td>\n",
              "      <td>Bùi Thái</td>\n",
              "      <td>Bình</td>\n",
              "      <td>Nữ</td>\n",
              "      <td>25/09/2000</td>\n",
              "      <td>5.8</td>\n",
              "      <td>6.0</td>\n",
              "    </tr>\n",
              "    <tr>\n",
              "      <th>4</th>\n",
              "      <td>6</td>\n",
              "      <td>18024551</td>\n",
              "      <td>Bùi Kim</td>\n",
              "      <td>Chi</td>\n",
              "      <td>Nữ</td>\n",
              "      <td>2000-04-06 00:00:00</td>\n",
              "      <td>7.0</td>\n",
              "      <td>7.0</td>\n",
              "    </tr>\n",
              "    <tr>\n",
              "      <th>5</th>\n",
              "      <td>7</td>\n",
              "      <td>18043821</td>\n",
              "      <td>Lương Thị Quế</td>\n",
              "      <td>Chi</td>\n",
              "      <td>Nữ</td>\n",
              "      <td>29/07/2000</td>\n",
              "      <td>6.5</td>\n",
              "      <td>6.5</td>\n",
              "    </tr>\n",
              "    <tr>\n",
              "      <th>6</th>\n",
              "      <td>8</td>\n",
              "      <td>17037311</td>\n",
              "      <td>Phạm Dương</td>\n",
              "      <td>Đức</td>\n",
              "      <td>Nữ</td>\n",
              "      <td>1999-04-03 00:00:00</td>\n",
              "      <td>6.0</td>\n",
              "      <td>6.0</td>\n",
              "    </tr>\n",
              "    <tr>\n",
              "      <th>7</th>\n",
              "      <td>9</td>\n",
              "      <td>18042341</td>\n",
              "      <td>Đỗ Thị</td>\n",
              "      <td>Giang</td>\n",
              "      <td>Nữ</td>\n",
              "      <td>21/02/2000</td>\n",
              "      <td>4.5</td>\n",
              "      <td>4.5</td>\n",
              "    </tr>\n",
              "    <tr>\n",
              "      <th>8</th>\n",
              "      <td>10</td>\n",
              "      <td>18038211</td>\n",
              "      <td>Trần Thị Thùy</td>\n",
              "      <td>Giang</td>\n",
              "      <td>Nữ</td>\n",
              "      <td>NaN</td>\n",
              "      <td>4.0</td>\n",
              "      <td>4.0</td>\n",
              "    </tr>\n",
              "    <tr>\n",
              "      <th>9</th>\n",
              "      <td>11</td>\n",
              "      <td>17033471</td>\n",
              "      <td>La Hồng</td>\n",
              "      <td>Giao</td>\n",
              "      <td>Nữ</td>\n",
              "      <td>1999-10-10 00:00:00</td>\n",
              "      <td>5.0</td>\n",
              "      <td>5.0</td>\n",
              "    </tr>\n",
              "    <tr>\n",
              "      <th>10</th>\n",
              "      <td>12</td>\n",
              "      <td>17098221</td>\n",
              "      <td>Nguyễn Minh</td>\n",
              "      <td>Hải</td>\n",
              "      <td>Nữ</td>\n",
              "      <td>1997-01-06 00:00:00</td>\n",
              "      <td>4.8</td>\n",
              "      <td>5.0</td>\n",
              "    </tr>\n",
              "    <tr>\n",
              "      <th>11</th>\n",
              "      <td>13</td>\n",
              "      <td>17101651</td>\n",
              "      <td>Lê Phạm Ngọc</td>\n",
              "      <td>Hân</td>\n",
              "      <td>Nữ</td>\n",
              "      <td>19/03/1999</td>\n",
              "      <td>3.8</td>\n",
              "      <td>4.0</td>\n",
              "    </tr>\n",
              "    <tr>\n",
              "      <th>12</th>\n",
              "      <td>14</td>\n",
              "      <td>17040981</td>\n",
              "      <td>Lê Thị Cẩm</td>\n",
              "      <td>Hằng</td>\n",
              "      <td>Nữ</td>\n",
              "      <td>13/07/1998</td>\n",
              "      <td>5.0</td>\n",
              "      <td>5.0</td>\n",
              "    </tr>\n",
              "    <tr>\n",
              "      <th>13</th>\n",
              "      <td>15</td>\n",
              "      <td>18062681</td>\n",
              "      <td>Nguyễn Thị Lệ</td>\n",
              "      <td>Hoa</td>\n",
              "      <td>Nữ</td>\n",
              "      <td>21/05/2000</td>\n",
              "      <td>6.3</td>\n",
              "      <td>6.5</td>\n",
              "    </tr>\n",
              "    <tr>\n",
              "      <th>14</th>\n",
              "      <td>16</td>\n",
              "      <td>18014381</td>\n",
              "      <td>Nguyễn Minh</td>\n",
              "      <td>Hòa</td>\n",
              "      <td>Nữ</td>\n",
              "      <td>14/09/2000</td>\n",
              "      <td>3.8</td>\n",
              "      <td>4.0</td>\n",
              "    </tr>\n",
              "  </tbody>\n",
              "</table>\n",
              "</div>"
            ],
            "text/plain": [
              "    STT     Mã SV            Họ đệm  ...            Ngày sinh Điểm Điểm.1\n",
              "0     1  18066431       Đỗ Huy Quốc  ...  2000-08-11 00:00:00  5.0    5.0\n",
              "1     2  18031341       Hồ Văn Công  ...           27/09/2000  5.5    5.5\n",
              "2     4  19462511  Nguyễn Thị Tuyết  ...  2001-01-01 00:00:00  6.3    6.5\n",
              "3     5  18002951          Bùi Thái  ...           25/09/2000  5.8    6.0\n",
              "4     6  18024551           Bùi Kim  ...  2000-04-06 00:00:00  7.0    7.0\n",
              "5     7  18043821     Lương Thị Quế  ...           29/07/2000  6.5    6.5\n",
              "6     8  17037311        Phạm Dương  ...  1999-04-03 00:00:00  6.0    6.0\n",
              "7     9  18042341            Đỗ Thị  ...           21/02/2000  4.5    4.5\n",
              "8    10  18038211     Trần Thị Thùy  ...                  NaN  4.0    4.0\n",
              "9    11  17033471           La Hồng  ...  1999-10-10 00:00:00  5.0    5.0\n",
              "10   12  17098221       Nguyễn Minh  ...  1997-01-06 00:00:00  4.8    5.0\n",
              "11   13  17101651      Lê Phạm Ngọc  ...           19/03/1999  3.8    4.0\n",
              "12   14  17040981        Lê Thị Cẩm  ...           13/07/1998  5.0    5.0\n",
              "13   15  18062681     Nguyễn Thị Lệ  ...           21/05/2000  6.3    6.5\n",
              "14   16  18014381       Nguyễn Minh  ...           14/09/2000  3.8    4.0\n",
              "\n",
              "[15 rows x 8 columns]"
            ]
          },
          "metadata": {
            "tags": []
          },
          "execution_count": 5
        }
      ]
    },
    {
      "cell_type": "code",
      "metadata": {
        "colab": {
          "base_uri": "https://localhost:8080/",
          "height": 35
        },
        "id": "TtjWnI1v4OOy",
        "outputId": "d435a0bf-1eab-49b0-e510-5a66efdddde6"
      },
      "source": [
        "result['Ngày sinh'].value_counts().idxmax()"
      ],
      "execution_count": null,
      "outputs": [
        {
          "output_type": "execute_result",
          "data": {
            "application/vnd.google.colaboratory.intrinsic+json": {
              "type": "string"
            },
            "text/plain": [
              "'13/03/1999'"
            ]
          },
          "metadata": {
            "tags": []
          },
          "execution_count": 20
        }
      ]
    },
    {
      "cell_type": "code",
      "metadata": {
        "id": "y2Q6Mesw6M3i"
      },
      "source": [
        "result['Ngày sinh'].fillna(result['Ngày sinh'].value_counts().idxmax(),inplace=True)"
      ],
      "execution_count": null,
      "outputs": []
    },
    {
      "cell_type": "code",
      "metadata": {
        "colab": {
          "base_uri": "https://localhost:8080/"
        },
        "id": "S6orBenB6bKS",
        "outputId": "7ce1b5d5-0ca5-4eec-9798-de75b6e9e0a7"
      },
      "source": [
        "result.isnull().sum()"
      ],
      "execution_count": null,
      "outputs": [
        {
          "output_type": "execute_result",
          "data": {
            "text/plain": [
              "STT          0\n",
              "Mã SV        0\n",
              "Họ đệm       0\n",
              "Tên          0\n",
              "Giới tính    0\n",
              "Ngày sinh    0\n",
              "Điểm         0\n",
              "Điểm.1       0\n",
              "dtype: int64"
            ]
          },
          "metadata": {
            "tags": []
          },
          "execution_count": 22
        }
      ]
    },
    {
      "cell_type": "code",
      "metadata": {
        "colab": {
          "base_uri": "https://localhost:8080/",
          "height": 297
        },
        "id": "WH4L6FKx6fkl",
        "outputId": "21f73619-fffd-428d-e2cf-2d5ea3663560"
      },
      "source": [
        "result.describe()"
      ],
      "execution_count": null,
      "outputs": [
        {
          "output_type": "execute_result",
          "data": {
            "text/html": [
              "<div>\n",
              "<style scoped>\n",
              "    .dataframe tbody tr th:only-of-type {\n",
              "        vertical-align: middle;\n",
              "    }\n",
              "\n",
              "    .dataframe tbody tr th {\n",
              "        vertical-align: top;\n",
              "    }\n",
              "\n",
              "    .dataframe thead th {\n",
              "        text-align: right;\n",
              "    }\n",
              "</style>\n",
              "<table border=\"1\" class=\"dataframe\">\n",
              "  <thead>\n",
              "    <tr style=\"text-align: right;\">\n",
              "      <th></th>\n",
              "      <th>STT</th>\n",
              "      <th>Mã SV</th>\n",
              "      <th>Điểm</th>\n",
              "      <th>Điểm.1</th>\n",
              "    </tr>\n",
              "  </thead>\n",
              "  <tbody>\n",
              "    <tr>\n",
              "      <th>count</th>\n",
              "      <td>64.000000</td>\n",
              "      <td>6.400000e+01</td>\n",
              "      <td>64.000000</td>\n",
              "      <td>64.000000</td>\n",
              "    </tr>\n",
              "    <tr>\n",
              "      <th>mean</th>\n",
              "      <td>33.468750</td>\n",
              "      <td>1.881333e+07</td>\n",
              "      <td>5.315625</td>\n",
              "      <td>5.421875</td>\n",
              "    </tr>\n",
              "    <tr>\n",
              "      <th>std</th>\n",
              "      <td>18.672592</td>\n",
              "      <td>1.030669e+07</td>\n",
              "      <td>1.205703</td>\n",
              "      <td>1.225453</td>\n",
              "    </tr>\n",
              "    <tr>\n",
              "      <th>min</th>\n",
              "      <td>1.000000</td>\n",
              "      <td>1.404069e+07</td>\n",
              "      <td>0.000000</td>\n",
              "      <td>0.000000</td>\n",
              "    </tr>\n",
              "    <tr>\n",
              "      <th>25%</th>\n",
              "      <td>17.750000</td>\n",
              "      <td>1.707397e+07</td>\n",
              "      <td>4.725000</td>\n",
              "      <td>4.875000</td>\n",
              "    </tr>\n",
              "    <tr>\n",
              "      <th>50%</th>\n",
              "      <td>33.500000</td>\n",
              "      <td>1.801700e+07</td>\n",
              "      <td>5.400000</td>\n",
              "      <td>5.500000</td>\n",
              "    </tr>\n",
              "    <tr>\n",
              "      <th>75%</th>\n",
              "      <td>49.250000</td>\n",
              "      <td>1.805240e+07</td>\n",
              "      <td>6.300000</td>\n",
              "      <td>6.500000</td>\n",
              "    </tr>\n",
              "    <tr>\n",
              "      <th>max</th>\n",
              "      <td>65.000000</td>\n",
              "      <td>9.966611e+07</td>\n",
              "      <td>7.000000</td>\n",
              "      <td>7.000000</td>\n",
              "    </tr>\n",
              "  </tbody>\n",
              "</table>\n",
              "</div>"
            ],
            "text/plain": [
              "             STT         Mã SV       Điểm     Điểm.1\n",
              "count  64.000000  6.400000e+01  64.000000  64.000000\n",
              "mean   33.468750  1.881333e+07   5.315625   5.421875\n",
              "std    18.672592  1.030669e+07   1.205703   1.225453\n",
              "min     1.000000  1.404069e+07   0.000000   0.000000\n",
              "25%    17.750000  1.707397e+07   4.725000   4.875000\n",
              "50%    33.500000  1.801700e+07   5.400000   5.500000\n",
              "75%    49.250000  1.805240e+07   6.300000   6.500000\n",
              "max    65.000000  9.966611e+07   7.000000   7.000000"
            ]
          },
          "metadata": {
            "tags": []
          },
          "execution_count": 24
        }
      ]
    },
    {
      "cell_type": "code",
      "metadata": {
        "colab": {
          "base_uri": "https://localhost:8080/"
        },
        "id": "6QOFy5rFMx7m",
        "outputId": "e890f6aa-bef2-482b-9ee4-32ecaa3cb11e"
      },
      "source": [
        "result['Điểm'].describe()"
      ],
      "execution_count": null,
      "outputs": [
        {
          "output_type": "execute_result",
          "data": {
            "text/plain": [
              "count    64.000000\n",
              "mean      5.315625\n",
              "std       1.205703\n",
              "min       0.000000\n",
              "25%       4.725000\n",
              "50%       5.400000\n",
              "75%       6.300000\n",
              "max       7.000000\n",
              "Name: Điểm, dtype: float64"
            ]
          },
          "metadata": {
            "tags": []
          },
          "execution_count": 25
        }
      ]
    },
    {
      "cell_type": "code",
      "metadata": {
        "colab": {
          "base_uri": "https://localhost:8080/",
          "height": 296
        },
        "id": "4v6PJKVj7_FT",
        "outputId": "ffe58546-5eb7-4de0-fd62-2aae68ea0405"
      },
      "source": [
        "sns.countplot(x='Điểm', data=result)"
      ],
      "execution_count": null,
      "outputs": [
        {
          "output_type": "execute_result",
          "data": {
            "text/plain": [
              "<matplotlib.axes._subplots.AxesSubplot at 0x7fde5995d1d0>"
            ]
          },
          "metadata": {
            "tags": []
          },
          "execution_count": 26
        },
        {
          "output_type": "display_data",
          "data": {
            "image/png": "[encoded data removed]",
            "text/plain": [
              "<Figure size 432x288 with 1 Axes>"
            ]
          },
          "metadata": {
            "tags": [],
            "needs_background": "light"
          }
        }
      ]
    },
    {
      "cell_type": "markdown",
      "metadata": {
        "id": "-8QK8tk7R1bm"
      },
      "source": [
        "Ta có thể thấy điểm thấp nhất trong biểu đồ là 0 và cao nhất là 7."
      ]
    },
    {
      "cell_type": "code",
      "metadata": {
        "colab": {
          "base_uri": "https://localhost:8080/",
          "height": 296
        },
        "id": "4cNvWTEMRy-b",
        "outputId": "a241f62d-2571-4930-c04f-c33fd883d8cf"
      },
      "source": [
        "sns.countplot(x='Giới tính', data=result)"
      ],
      "execution_count": null,
      "outputs": [
        {
          "output_type": "execute_result",
          "data": {
            "text/plain": [
              "<matplotlib.axes._subplots.AxesSubplot at 0x7fde5178c978>"
            ]
          },
          "metadata": {
            "tags": []
          },
          "execution_count": 31
        },
        {
          "output_type": "display_data",
          "data": {
            "image/png": "[encoded data removed]",
            "text/plain": [
              "<Figure size 432x288 with 1 Axes>"
            ]
          },
          "metadata": {
            "tags": [],
            "needs_background": "light"
          }
        }
      ]
    },
    {
      "cell_type": "markdown",
      "metadata": {
        "id": "3hD461X-SBpe"
      },
      "source": [
        "Từ biểu đồ trên có thể thấy số lượng nam và nữ chênh lệch nhau quá lớn. Nữ nhiều hơn và chiếm đa số so với nam."
      ]
    },
    {
      "cell_type": "code",
      "metadata": {
        "colab": {
          "base_uri": "https://localhost:8080/",
          "height": 282
        },
        "id": "Tlc-TD2USfCN",
        "outputId": "43c34172-09a2-4411-db02-b67274a68110"
      },
      "source": [
        "result['Điểm'].hist()"
      ],
      "execution_count": null,
      "outputs": [
        {
          "output_type": "execute_result",
          "data": {
            "text/plain": [
              "<matplotlib.axes._subplots.AxesSubplot at 0x7fde516e0978>"
            ]
          },
          "metadata": {
            "tags": []
          },
          "execution_count": 32
        },
        {
          "output_type": "display_data",
          "data": {
            "image/png": "[encoded data removed]",
            "text/plain": [
              "<Figure size 432x288 with 1 Axes>"
            ]
          },
          "metadata": {
            "tags": [],
            "needs_background": "light"
          }
        }
      ]
    },
    {
      "cell_type": "markdown",
      "metadata": {
        "id": "DeJyuUU7-ATJ"
      },
      "source": [
        "Từ biểu đồ ta thấy điểm tập trung nhiều nhất vào khoảng 4.5 đến 7. \r\n",
        "Không có điểm trên 8\r\n",
        "Điểm sinh viên hầu hết ở mức trung bình khá."
      ]
    },
    {
      "cell_type": "markdown",
      "metadata": {
        "id": "-Z31Q_yAShtX"
      },
      "source": [
        ""
      ]
    },
    {
      "cell_type": "code",
      "metadata": {
        "colab": {
          "base_uri": "https://localhost:8080/",
          "height": 296
        },
        "id": "foCSdw95NwDt",
        "outputId": "3595693d-db5a-4e7f-f06b-85dfe1b9ca9c"
      },
      "source": [
        "sns.boxplot(x=result['Giới tính'], y=result['Điểm'])"
      ],
      "execution_count": null,
      "outputs": [
        {
          "output_type": "execute_result",
          "data": {
            "text/plain": [
              "<matplotlib.axes._subplots.AxesSubplot at 0x7fde51814d68>"
            ]
          },
          "metadata": {
            "tags": []
          },
          "execution_count": 30
        },
        {
          "output_type": "display_data",
          "data": {
            "image/png": "[encoded data removed]",
            "text/plain": [
              "<Figure size 432x288 with 1 Axes>"
            ]
          },
          "metadata": {
            "tags": [],
            "needs_background": "light"
          }
        }
      ]
    },
    {
      "cell_type": "markdown",
      "metadata": {
        "id": "hyOBu9LjTX2b"
      },
      "source": [
        "Gía trị ngoài outlier tại điểm 0 của giới tính nữ.\r\n",
        "Có thể thấy được bên lớp nam chỉ có 1 và điểm là 7 và cũng là điểm cao nhất, và hầu như tập trung từ 4.5 đến 6.5."
      ]
    }
  ]
}